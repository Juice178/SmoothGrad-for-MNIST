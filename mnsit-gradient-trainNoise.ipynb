{
 "cells": [
  {
   "cell_type": "markdown",
   "metadata": {},
   "source": [
    "# Convolutional Neural Networks with 8 layersでのSmoothgrad\n",
    "# On MNIST\n",
    "# Adding Noise when  training and testing\n",
    "\n",
    "# Reference https://github.com/experiencor/deep-viz-keras"
   ]
  },
  {
   "cell_type": "code",
   "execution_count": 1,
   "metadata": {},
   "outputs": [
    {
     "name": "stderr",
     "output_type": "stream",
     "text": [
      "Using TensorFlow backend.\n"
     ]
    }
   ],
   "source": [
    "from keras.preprocessing import image\n",
    "import numpy as np\n",
    "\n",
    "from keras.applications.resnet50 import preprocess_input, decode_predictions\n",
    "import numpy as np\n",
    "import tensorflow as tf\n",
    "import PIL.Image\n",
    "import keras.backend as K\n",
    "from matplotlib import pylab as plt\n",
    "\n",
    "%matplotlib inline"
   ]
  },
  {
   "cell_type": "code",
   "execution_count": 7,
   "metadata": {},
   "outputs": [],
   "source": [
    "from keras import layers\n",
    "from keras import models\n",
    "from keras.layers.noise import GaussianNoise\n",
    "model = models.Sequential()\n",
    "model.add(GaussianNoise(.2, input_shape=(28, 28, 1)))\n",
    "model.add(layers.Conv2D(32, (3, 3), activation='relu'))\n",
    "model.add(layers.MaxPooling2D((2, 2)))\n",
    "model.add(layers.Conv2D(64, (3, 3), activation='relu'))\n",
    "model.add(layers.MaxPooling2D((2, 2)))\n",
    "model.add(layers.Conv2D(64, (3, 3), activation='relu'))\n",
    "model.add(layers.Flatten())\n",
    "model.add(layers.Dense(64, activation='relu'))\n",
    "model.add(layers.Dense(10, activation='softmax'))"
   ]
  },
  {
   "cell_type": "code",
   "execution_count": 8,
   "metadata": {},
   "outputs": [
    {
     "name": "stdout",
     "output_type": "stream",
     "text": [
      "_________________________________________________________________\n",
      "Layer (type)                 Output Shape              Param #   \n",
      "=================================================================\n",
      "gaussian_noise_2 (GaussianNo (None, 28, 28, 1)         0         \n",
      "_________________________________________________________________\n",
      "conv2d_7 (Conv2D)            (None, 26, 26, 32)        320       \n",
      "_________________________________________________________________\n",
      "max_pooling2d_5 (MaxPooling2 (None, 13, 13, 32)        0         \n",
      "_________________________________________________________________\n",
      "conv2d_8 (Conv2D)            (None, 11, 11, 64)        18496     \n",
      "_________________________________________________________________\n",
      "max_pooling2d_6 (MaxPooling2 (None, 5, 5, 64)          0         \n",
      "_________________________________________________________________\n",
      "conv2d_9 (Conv2D)            (None, 3, 3, 64)          36928     \n",
      "_________________________________________________________________\n",
      "flatten_3 (Flatten)          (None, 576)               0         \n",
      "_________________________________________________________________\n",
      "dense_5 (Dense)              (None, 64)                36928     \n",
      "_________________________________________________________________\n",
      "dense_6 (Dense)              (None, 10)                650       \n",
      "=================================================================\n",
      "Total params: 93,322\n",
      "Trainable params: 93,322\n",
      "Non-trainable params: 0\n",
      "_________________________________________________________________\n"
     ]
    }
   ],
   "source": [
    "model.summary()"
   ]
  },
  {
   "cell_type": "code",
   "execution_count": 9,
   "metadata": {
    "collapsed": true
   },
   "outputs": [],
   "source": [
    "from keras.datasets import mnist\n",
    "from keras.utils import to_categorical\n",
    "(train_images, train_labels), (test_images, test_labels) = mnist.load_data()\n",
    "train_images = train_images.reshape((60000, 28, 28, 1))\n",
    "train_images = train_images.astype('float32') / 255\n",
    "test_images = test_images.reshape((10000, 28, 28, 1))\n",
    "test_images = test_images.astype('float32') / 255\n",
    "train_labels = to_categorical(train_labels)\n",
    "test_labels = to_categorical(test_labels)"
   ]
  },
  {
   "cell_type": "code",
   "execution_count": 10,
   "metadata": {},
   "outputs": [
    {
     "name": "stdout",
     "output_type": "stream",
     "text": [
      "Epoch 1/5\n",
      "60000/60000 [==============================] - 78s - loss: 0.2058 - acc: 0.9352    \n",
      "Epoch 2/5\n",
      "60000/60000 [==============================] - 78s - loss: 0.0577 - acc: 0.9819    \n",
      "Epoch 3/5\n",
      "60000/60000 [==============================] - 82s - loss: 0.0440 - acc: 0.9868    \n",
      "Epoch 4/5\n",
      "60000/60000 [==============================] - 79s - loss: 0.0349 - acc: 0.9890    \n",
      "Epoch 5/5\n",
      "60000/60000 [==============================] - 81s - loss: 0.0303 - acc: 0.9902    \n"
     ]
    },
    {
     "data": {
      "text/plain": [
       "<keras.callbacks.History at 0x12de3ee10>"
      ]
     },
     "execution_count": 10,
     "metadata": {},
     "output_type": "execute_result"
    }
   ],
   "source": [
    "model.compile(optimizer='rmsprop',\n",
    "              loss='categorical_crossentropy',\n",
    "              metrics=['accuracy'])\n",
    "model.fit(train_images, train_labels, epochs=5, batch_size=64)"
   ]
  },
  {
   "cell_type": "code",
   "execution_count": 11,
   "metadata": {
    "collapsed": true
   },
   "outputs": [],
   "source": [
    "model.save('mnist_noise.h5')"
   ]
  },
  {
   "cell_type": "code",
   "execution_count": 12,
   "metadata": {},
   "outputs": [
    {
     "name": "stdout",
     "output_type": "stream",
     "text": [
      " 9952/10000 [============================>.] - ETA: 0s"
     ]
    },
    {
     "data": {
      "text/plain": [
       "0.99199999999999999"
      ]
     },
     "execution_count": 12,
     "metadata": {},
     "output_type": "execute_result"
    }
   ],
   "source": [
    "test_loss, test_acc = model.evaluate(test_images, test_labels)\n",
    "test_acc"
   ]
  },
  {
   "cell_type": "code",
   "execution_count": 13,
   "metadata": {},
   "outputs": [
    {
     "data": {
      "text/plain": [
       "(28, 28, 1)"
      ]
     },
     "execution_count": 13,
     "metadata": {},
     "output_type": "execute_result"
    }
   ],
   "source": [
    "test_images[0].shape"
   ]
  },
  {
   "cell_type": "markdown",
   "metadata": {},
   "source": [
    "# 最初のテスト画像：７にSmoothgradを行う"
   ]
  },
  {
   "cell_type": "code",
   "execution_count": 14,
   "metadata": {},
   "outputs": [
    {
     "data": {
      "text/plain": [
       "<matplotlib.image.AxesImage at 0x12e0a3c50>"
      ]
     },
     "execution_count": 14,
     "metadata": {},
     "output_type": "execute_result"
    },
    {
     "data": {
      "image/png": "[encoded data removed]",
      "text/plain": [
       "<matplotlib.figure.Figure at 0x11f2db940>"
      ]
     },
     "metadata": {},
     "output_type": "display_data"
    }
   ],
   "source": [
    "img = test_images[0].reshape(28, 28)\n",
    "plt.imshow(img, cmap='gray')"
   ]
  },
  {
   "cell_type": "code",
   "execution_count": 15,
   "metadata": {},
   "outputs": [
    {
     "name": "stdout",
     "output_type": "stream",
     "text": [
      "Predicted labels is: 7 \n",
      "1.0\n"
     ]
    }
   ],
   "source": [
    "x = np.expand_dims(test_images[0], axis=0)\n",
    "preds = model.predict(x)\n",
    "label = np.argmax(preds)\n",
    "print(\"Predicted labels is: {0} \".format(label))\n",
    "print(np.sort(preds)[0][-1])"
   ]
  },
  {
   "cell_type": "code",
   "execution_count": 16,
   "metadata": {
    "scrolled": true
   },
   "outputs": [
    {
     "name": "stdout",
     "output_type": "stream",
     "text": [
      "/Users/kentasuzuki/deep-viz-keras\n"
     ]
    }
   ],
   "source": [
    "cd ../../../deep-viz-keras/"
   ]
  },
  {
   "cell_type": "code",
   "execution_count": 17,
   "metadata": {},
   "outputs": [
    {
     "name": "stdout",
     "output_type": "stream",
     "text": [
      "Examples.ipynb              integrated_gradients_ks.py\r\n",
      "README.md                   saliency.pyc\r\n",
      "\u001b[34m__pycache__\u001b[m\u001b[m/                saliency_ks.py\r\n",
      "guided_backprop.pyc         utils.py\r\n",
      "guided_backprop_ks.py       visual_backprop.pyc\r\n",
      "\u001b[34mimages\u001b[m\u001b[m/                     visual_backprop_ks.py\r\n",
      "integrated_gradients.pyc\r\n"
     ]
    }
   ],
   "source": [
    "ls"
   ]
  },
  {
   "cell_type": "code",
   "execution_count": 18,
   "metadata": {},
   "outputs": [
    {
     "name": "stdout",
     "output_type": "stream",
     "text": [
      "(1, 28, 28, 1)\n",
      "(28, 28, 1)\n"
     ]
    }
   ],
   "source": [
    "print(x.shape)\n",
    "print(x[0].shape)"
   ]
  },
  {
   "cell_type": "code",
   "execution_count": null,
   "metadata": {
    "collapsed": true
   },
   "outputs": [],
   "source": []
  },
  {
   "cell_type": "code",
   "execution_count": null,
   "metadata": {
    "collapsed": true
   },
   "outputs": [],
   "source": []
  },
  {
   "cell_type": "code",
   "execution_count": 19,
   "metadata": {
    "collapsed": true
   },
   "outputs": [],
   "source": [
    "def show_image(image, grayscale = True, ax=None, title=''):\n",
    "    if ax is None:\n",
    "        plt.figure()\n",
    "    plt.axis('off')\n",
    "    \n",
    "    if len(image.shape) == 2 or grayscale == True:\n",
    "        if len(image.shape) == 3:\n",
    "            image = np.sum(np.abs(image), axis=2)\n",
    "            \n",
    "        vmax = np.percentile(image, 99)\n",
    "        vmin = np.min(image)\n",
    "\n",
    "        plt.imshow(image, cmap=plt.cm.gray, vmin=vmin, vmax=vmax)\n",
    "        plt.title(title)\n",
    "    else:\n",
    "        image = image + 127.5\n",
    "        image = image.astype('uint8')\n",
    "        \n",
    "        plt.imshow(image)\n",
    "        plt.title(title)\n",
    "    \n",
    "def load_image(file_path):\n",
    "    im = PIL.Image.open(file_path)\n",
    "    im = np.asarray(im)\n",
    "    \n",
    "    return im - 127.5"
   ]
  },
  {
   "cell_type": "code",
   "execution_count": 20,
   "metadata": {
    "collapsed": true
   },
   "outputs": [],
   "source": [
    "x2 = x.reshape(28, 28, 1)"
   ]
  },
  {
   "cell_type": "markdown",
   "metadata": {},
   "source": [
    "# Comparison:  Vanila gradient VS SmoothGrad"
   ]
  },
  {
   "cell_type": "code",
   "execution_count": 21,
   "metadata": {},
   "outputs": [
    {
     "data": {
      "image/png": "[encoded data removed]",
      "text/plain": [
       "<matplotlib.figure.Figure at 0x118d636d8>"
      ]
     },
     "metadata": {},
     "output_type": "display_data"
    }
   ],
   "source": [
    "from saliency_ks import GradientSaliency\n",
    "vanilla = GradientSaliency(model)\n",
    "\n",
    "mask = vanilla.get_mask(x[0])\n",
    "show_image(mask, ax=plt.subplot('121'), title='vanilla gradient')\n",
    "\n",
    "mask = vanilla.get_smoothed_mask(x[0])\n",
    "show_image(mask, ax=plt.subplot('122'), title='smoothed vanilla gradient(SmoothGrad)')"
   ]
  },
  {
   "cell_type": "markdown",
   "metadata": {},
   "source": [
    "# Comparison: GuidedBackprop gradient VS SmoothGrad+Backprop"
   ]
  },
  {
   "cell_type": "code",
   "execution_count": 22,
   "metadata": {},
   "outputs": [
    {
     "name": "stdout",
     "output_type": "stream",
     "text": [
      "INFO:tensorflow:Restoring parameters from /tmp/guided_backprop_ckpt\n"
     ]
    }
   ],
   "source": [
    "from guided_backprop_ks import GuidedBackprop\n",
    "guided_bprop = GuidedBackprop(model)"
   ]
  },
  {
   "cell_type": "code",
   "execution_count": 23,
   "metadata": {},
   "outputs": [
    {
     "data": {
      "image/png": "[encoded data removed]",
      "text/plain": [
       "<matplotlib.figure.Figure at 0x12e072438>"
      ]
     },
     "metadata": {},
     "output_type": "display_data"
    }
   ],
   "source": [
    "mask = guided_bprop.get_mask(x[0])\n",
    "show_image(mask, ax=plt.subplot('121'), title='guided backprop')\n",
    "\n",
    "mask = guided_bprop.get_smoothed_mask(x[0])\n",
    "show_image(mask, ax=plt.subplot('122'), title='smoothed guided backprop')"
   ]
  },
  {
   "cell_type": "markdown",
   "metadata": {},
   "source": [
    "# Comparison: Integrated gradient VS SmoothGrad+Integrated grad"
   ]
  },
  {
   "cell_type": "code",
   "execution_count": 24,
   "metadata": {
    "collapsed": true
   },
   "outputs": [],
   "source": [
    "from integrated_gradients_ks import IntegratedGradients\n",
    "inter_grad = IntegratedGradients(model)"
   ]
  },
  {
   "cell_type": "code",
   "execution_count": 25,
   "metadata": {},
   "outputs": [
    {
     "data": {
      "image/png": "[encoded data removed]",
      "text/plain": [
       "<matplotlib.figure.Figure at 0x12e923f28>"
      ]
     },
     "metadata": {},
     "output_type": "display_data"
    }
   ],
   "source": [
    "mask = inter_grad.get_mask(x[0])\n",
    "show_image(mask, ax=plt.subplot('121'), title='integrated grad')\n",
    "\n",
    "mask = inter_grad.get_smoothed_mask(x[0])\n",
    "show_image(mask, ax=plt.subplot('122'), title='smoothed integrated grad')"
   ]
  },
  {
   "cell_type": "code",
   "execution_count": 26,
   "metadata": {
    "collapsed": true
   },
   "outputs": [],
   "source": [
    "from visual_backprop_ks import VisualBackprop\n",
    "visual_bprop = VisualBackprop(model)"
   ]
  },
  {
   "cell_type": "code",
   "execution_count": 27,
   "metadata": {},
   "outputs": [
    {
     "data": {
      "image/png": "[encoded data removed]",
      "text/plain": [
       "<matplotlib.figure.Figure at 0x12e8f7198>"
      ]
     },
     "metadata": {},
     "output_type": "display_data"
    }
   ],
   "source": [
    "plt.figure(figsize=(20,8))\n",
    "\n",
    "# Plot non-smoothed versions\n",
    "show_image(img, grayscale=False, ax=plt.subplot(251))\n",
    "\n",
    "mask = vanilla.get_mask(x[0])\n",
    "show_image(mask, ax=plt.subplot(252), title='vanilla gradient')\n",
    "\n",
    "mask = guided_bprop.get_mask(x[0])\n",
    "show_image(mask, ax=plt.subplot(253), title='guided backprop')\n",
    "\n",
    "mask = inter_grad.get_mask(x[0])\n",
    "show_image(mask, ax=plt.subplot(254), title='integrated grad')\n",
    "\n",
    "\n",
    "\n",
    "# Plot smoothed versions\n",
    "show_image(img, grayscale=False, ax=plt.subplot(256))\n",
    "\n",
    "mask = vanilla.get_smoothed_mask(x[0])\n",
    "show_image(mask, ax=plt.subplot(257), title='smoothed vanilla gradient')\n",
    "\n",
    "mask = guided_bprop.get_smoothed_mask(x[0])\n",
    "show_image(mask, ax=plt.subplot(258), title='smoothed guided backprop')\n",
    "\n",
    "mask = inter_grad.get_smoothed_mask(x[0])\n",
    "show_image(mask, ax=plt.subplot(259), title='smoothed integrated grad')\n"
   ]
  },
  {
   "cell_type": "code",
   "execution_count": null,
   "metadata": {
    "collapsed": true
   },
   "outputs": [],
   "source": []
  },
  {
   "cell_type": "code",
   "execution_count": null,
   "metadata": {},
   "outputs": [],
   "source": []
  },
  {
   "cell_type": "code",
   "execution_count": 28,
   "metadata": {},
   "outputs": [
    {
     "data": {
      "image/png": "[encoded data removed]",
      "text/plain": [
       "<matplotlib.figure.Figure at 0x130c95048>"
      ]
     },
     "metadata": {},
     "output_type": "display_data"
    }
   ],
   "source": [
    "# Plot non-smoothed versions\n",
    "show_image(img, grayscale=False, ax=plt.subplot(251))"
   ]
  },
  {
   "cell_type": "markdown",
   "metadata": {},
   "source": [
    "# Noise level(standard deviation)を0％から50％に変える　　　　#　画像から10%が適切（原型を保持している）"
   ]
  },
  {
   "cell_type": "code",
   "execution_count": 29,
   "metadata": {},
   "outputs": [
    {
     "data": {
      "image/png": "[encoded data removed]",
      "text/plain": [
       "<matplotlib.figure.Figure at 0x130d1f048>"
      ]
     },
     "metadata": {},
     "output_type": "display_data"
    }
   ],
   "source": [
    "plt.figure(figsize=(20,8))\n",
    "for noise in range(-1, 6):\n",
    "    if noise == -1:\n",
    "        # Plot non-smoothed versions\n",
    "        show_image(img, grayscale=False, ax=plt.subplot(241), title=\"Noise level: \")\n",
    "    else:\n",
    "        mask = guided_bprop.get_smoothed_mask(x[0], stdev_spread=noise/10)\n",
    "        show_image(mask, ax=plt.subplot(242 + noise), title='{0} %'.format(noise*10))"
   ]
  },
  {
   "cell_type": "markdown",
   "metadata": {},
   "source": [
    "# Sample size(N) を変える（noise level := 10%）\n",
    "# N = 20,50,100 seems appropriate"
   ]
  },
  {
   "cell_type": "code",
   "execution_count": 30,
   "metadata": {},
   "outputs": [
    {
     "data": {
      "image/png": "[encoded data removed]",
      "text/plain": [
       "<matplotlib.figure.Figure at 0x12e9f5278>"
      ]
     },
     "metadata": {},
     "output_type": "display_data"
    }
   ],
   "source": [
    "samples = [2,5,20,50,100]\n",
    "plt.figure(figsize=(20,8))\n",
    "for i, noise in enumerate(range(-1, 6)):\n",
    "    if noise == -1:\n",
    "        # Plot non-smoothed versions\n",
    "        show_image(img, grayscale=False, ax=plt.subplot(241), title=\"Sample size: \")\n",
    "    else:\n",
    "        if i == 6:\n",
    "            break\n",
    "        sample = samples[i-1]\n",
    "        mask = guided_bprop.get_smoothed_mask(x[0], stdev_spread=0.1, nsamples=sample)\n",
    "        show_image(mask, ax=plt.subplot(242 + noise), title='N = {0} '.format(sample))"
   ]
  },
  {
   "cell_type": "code",
   "execution_count": null,
   "metadata": {
    "collapsed": true
   },
   "outputs": [],
   "source": [
    " "
   ]
  }
 ],
 "metadata": {
  "kernelspec": {
   "display_name": "Python 3",
   "language": "python",
   "name": "python3"
  },
  "language_info": {
   "codemirror_mode": {
    "name": "ipython",
    "version": 3
   },
   "file_extension": ".py",
   "mimetype": "text/x-python",
   "name": "python",
   "nbconvert_exporter": "python",
   "pygments_lexer": "ipython3",
   "version": "3.5.3"
  }
 },
 "nbformat": 4,
 "nbformat_minor": 2
}
